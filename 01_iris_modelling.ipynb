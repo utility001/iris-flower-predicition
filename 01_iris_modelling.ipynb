{
 "cells": [
  {
   "cell_type": "markdown",
   "id": "53f0dd8d-1412-48ab-a3c6-15b48d5cbedf",
   "metadata": {},
   "source": [
    "# Ingest"
   ]
  },
  {
   "cell_type": "code",
   "execution_count": 1,
   "id": "58542b14-2ec8-4b77-bb6e-a0fd5290016f",
   "metadata": {},
   "outputs": [],
   "source": [
    "# imports\n",
    "import pandas as pd\n",
    "import seaborn as sns\n",
    "import matplotlib.pyplot as plt\n",
    "\n",
    "from sklearn.datasets import load_iris\n",
    "\n",
    "from sklearn.pipeline import make_pipeline\n",
    "from sklearn.preprocessing import MinMaxScaler, StandardScaler\n",
    "from sklearn.compose import ColumnTransformer\n",
    "\n",
    "from sklearn.metrics import accuracy_score, ConfusionMatrixDisplay, classification_report\n",
    "from sklearn.model_selection import cross_val_score, cross_val_predict, train_test_split\n",
    "\n",
    "from sklearn.linear_model import RidgeClassifier\n",
    "from sklearn.svm import SVC"
   ]
  },
  {
   "cell_type": "code",
   "execution_count": 2,
   "id": "21188b5d-413d-4fb4-8767-5ae758ea222a",
   "metadata": {},
   "outputs": [],
   "source": [
    "# Ingest function\n",
    "def get_iris():\n",
    "    \"\"\"\n",
    "    This function loads the iris dataset from sklearn datasets\n",
    "    \"\"\"\n",
    "    # Load dataset, get the featues and labels\n",
    "    dataset = load_iris(as_frame=True)\n",
    "    feature=dataset.data\n",
    "    label=dataset.target\n",
    "\n",
    "    # Merge the featues and labels into one dataframe\n",
    "    df = feature.copy()\n",
    "    df[\"species\"] = label\n",
    "\n",
    "    # Convert the target into acutal classes\n",
    "    target = {\n",
    "        0: \"setosa\",\n",
    "        1: \"versicolor\",\n",
    "        2: \"virginica\"\n",
    "    }\n",
    "    \n",
    "    df['species'] = df[\"species\"].map(target)\n",
    "\n",
    "    rename_col = {\n",
    "        \"sepal length (cm)\": \"sepal_length\",\n",
    "        \"sepal width (cm)\": \"sepal_width\",\n",
    "        \"petal length (cm)\": \"petal_length\",\n",
    "        \"petal width (cm)\": \"petal_width\"\n",
    "    }\n",
    "    df = df.rename(columns=rename_col)\n",
    "   \n",
    "    return df"
   ]
  },
  {
   "cell_type": "code",
   "execution_count": 3,
   "id": "87727513-22ff-4420-ad4c-160680c8743d",
   "metadata": {},
   "outputs": [],
   "source": [
    "iris_df = get_iris()"
   ]
  },
  {
   "cell_type": "code",
   "execution_count": 4,
   "id": "7efab578-2cfd-4825-8eb3-3d429d44d453",
   "metadata": {},
   "outputs": [
    {
     "data": {
      "text/html": [
       "<div>\n",
       "<style scoped>\n",
       "    .dataframe tbody tr th:only-of-type {\n",
       "        vertical-align: middle;\n",
       "    }\n",
       "\n",
       "    .dataframe tbody tr th {\n",
       "        vertical-align: top;\n",
       "    }\n",
       "\n",
       "    .dataframe thead th {\n",
       "        text-align: right;\n",
       "    }\n",
       "</style>\n",
       "<table border=\"1\" class=\"dataframe\">\n",
       "  <thead>\n",
       "    <tr style=\"text-align: right;\">\n",
       "      <th></th>\n",
       "      <th>sepal_length</th>\n",
       "      <th>sepal_width</th>\n",
       "      <th>petal_length</th>\n",
       "      <th>petal_width</th>\n",
       "      <th>species</th>\n",
       "    </tr>\n",
       "  </thead>\n",
       "  <tbody>\n",
       "    <tr>\n",
       "      <th>0</th>\n",
       "      <td>5.1</td>\n",
       "      <td>3.5</td>\n",
       "      <td>1.4</td>\n",
       "      <td>0.2</td>\n",
       "      <td>setosa</td>\n",
       "    </tr>\n",
       "    <tr>\n",
       "      <th>1</th>\n",
       "      <td>4.9</td>\n",
       "      <td>3.0</td>\n",
       "      <td>1.4</td>\n",
       "      <td>0.2</td>\n",
       "      <td>setosa</td>\n",
       "    </tr>\n",
       "    <tr>\n",
       "      <th>2</th>\n",
       "      <td>4.7</td>\n",
       "      <td>3.2</td>\n",
       "      <td>1.3</td>\n",
       "      <td>0.2</td>\n",
       "      <td>setosa</td>\n",
       "    </tr>\n",
       "    <tr>\n",
       "      <th>3</th>\n",
       "      <td>4.6</td>\n",
       "      <td>3.1</td>\n",
       "      <td>1.5</td>\n",
       "      <td>0.2</td>\n",
       "      <td>setosa</td>\n",
       "    </tr>\n",
       "    <tr>\n",
       "      <th>4</th>\n",
       "      <td>5.0</td>\n",
       "      <td>3.6</td>\n",
       "      <td>1.4</td>\n",
       "      <td>0.2</td>\n",
       "      <td>setosa</td>\n",
       "    </tr>\n",
       "  </tbody>\n",
       "</table>\n",
       "</div>"
      ],
      "text/plain": [
       "   sepal_length  sepal_width  petal_length  petal_width species\n",
       "0           5.1          3.5           1.4          0.2  setosa\n",
       "1           4.9          3.0           1.4          0.2  setosa\n",
       "2           4.7          3.2           1.3          0.2  setosa\n",
       "3           4.6          3.1           1.5          0.2  setosa\n",
       "4           5.0          3.6           1.4          0.2  setosa"
      ]
     },
     "execution_count": 4,
     "metadata": {},
     "output_type": "execute_result"
    }
   ],
   "source": [
    "iris_df.head()"
   ]
  },
  {
   "cell_type": "code",
   "execution_count": 5,
   "id": "77f21077-e0a7-4696-b612-4fa9cd5643be",
   "metadata": {},
   "outputs": [],
   "source": [
    "# Transform the dataset into a more useable format\n",
    "\n",
    "def split_and_transform_iris(df):\n",
    "    df = df.copy()\n",
    "\n",
    "    target = {\n",
    "        \"setosa\": 0,\n",
    "        \"versicolor\": 1,\n",
    "        \"virginica\": 2\n",
    "    }\n",
    "\n",
    "    df[\"species\"] = df['species'].map(target) \n",
    "\n",
    "    target_col = 'species'\n",
    "    X, y = df.drop(columns=[target_col]), df[target_col]\n",
    "\n",
    "    # Split into train and test\n",
    "    X_train, X_test, y_train, y_test = train_test_split(\n",
    "        X, y, test_size=0.30, shuffle=True, random_state=42, stratify=y)\n",
    "    \n",
    "    return X_train, y_train, X_test, y_test"
   ]
  },
  {
   "cell_type": "code",
   "execution_count": 6,
   "id": "cf42ecdc-07f6-4897-8465-babc618d320e",
   "metadata": {},
   "outputs": [],
   "source": [
    "X_train, y_train, X_test, y_test = split_and_transform_iris(iris_df)"
   ]
  },
  {
   "cell_type": "code",
   "execution_count": 7,
   "id": "30246171-fcd7-4062-a0a6-a5a57aa31e48",
   "metadata": {},
   "outputs": [
    {
     "data": {
      "text/html": [
       "<div>\n",
       "<style scoped>\n",
       "    .dataframe tbody tr th:only-of-type {\n",
       "        vertical-align: middle;\n",
       "    }\n",
       "\n",
       "    .dataframe tbody tr th {\n",
       "        vertical-align: top;\n",
       "    }\n",
       "\n",
       "    .dataframe thead th {\n",
       "        text-align: right;\n",
       "    }\n",
       "</style>\n",
       "<table border=\"1\" class=\"dataframe\">\n",
       "  <thead>\n",
       "    <tr style=\"text-align: right;\">\n",
       "      <th></th>\n",
       "      <th>sepal_length</th>\n",
       "      <th>sepal_width</th>\n",
       "      <th>petal_length</th>\n",
       "      <th>petal_width</th>\n",
       "    </tr>\n",
       "  </thead>\n",
       "  <tbody>\n",
       "    <tr>\n",
       "      <th>98</th>\n",
       "      <td>5.1</td>\n",
       "      <td>2.5</td>\n",
       "      <td>3.0</td>\n",
       "      <td>1.1</td>\n",
       "    </tr>\n",
       "    <tr>\n",
       "      <th>68</th>\n",
       "      <td>6.2</td>\n",
       "      <td>2.2</td>\n",
       "      <td>4.5</td>\n",
       "      <td>1.5</td>\n",
       "    </tr>\n",
       "    <tr>\n",
       "      <th>19</th>\n",
       "      <td>5.1</td>\n",
       "      <td>3.8</td>\n",
       "      <td>1.5</td>\n",
       "      <td>0.3</td>\n",
       "    </tr>\n",
       "    <tr>\n",
       "      <th>143</th>\n",
       "      <td>6.8</td>\n",
       "      <td>3.2</td>\n",
       "      <td>5.9</td>\n",
       "      <td>2.3</td>\n",
       "    </tr>\n",
       "    <tr>\n",
       "      <th>99</th>\n",
       "      <td>5.7</td>\n",
       "      <td>2.8</td>\n",
       "      <td>4.1</td>\n",
       "      <td>1.3</td>\n",
       "    </tr>\n",
       "  </tbody>\n",
       "</table>\n",
       "</div>"
      ],
      "text/plain": [
       "     sepal_length  sepal_width  petal_length  petal_width\n",
       "98            5.1          2.5           3.0          1.1\n",
       "68            6.2          2.2           4.5          1.5\n",
       "19            5.1          3.8           1.5          0.3\n",
       "143           6.8          3.2           5.9          2.3\n",
       "99            5.7          2.8           4.1          1.3"
      ]
     },
     "execution_count": 7,
     "metadata": {},
     "output_type": "execute_result"
    }
   ],
   "source": [
    "X_train.head()"
   ]
  },
  {
   "cell_type": "code",
   "execution_count": 8,
   "id": "50d24f7d-b5b0-483b-b54f-d8d8a1f42f31",
   "metadata": {},
   "outputs": [
    {
     "data": {
      "text/html": [
       "<div>\n",
       "<style scoped>\n",
       "    .dataframe tbody tr th:only-of-type {\n",
       "        vertical-align: middle;\n",
       "    }\n",
       "\n",
       "    .dataframe tbody tr th {\n",
       "        vertical-align: top;\n",
       "    }\n",
       "\n",
       "    .dataframe thead th {\n",
       "        text-align: right;\n",
       "    }\n",
       "</style>\n",
       "<table border=\"1\" class=\"dataframe\">\n",
       "  <thead>\n",
       "    <tr style=\"text-align: right;\">\n",
       "      <th></th>\n",
       "      <th>sepal_length</th>\n",
       "      <th>sepal_width</th>\n",
       "      <th>petal_length</th>\n",
       "      <th>petal_width</th>\n",
       "    </tr>\n",
       "  </thead>\n",
       "  <tbody>\n",
       "    <tr>\n",
       "      <th>107</th>\n",
       "      <td>7.3</td>\n",
       "      <td>2.9</td>\n",
       "      <td>6.3</td>\n",
       "      <td>1.8</td>\n",
       "    </tr>\n",
       "    <tr>\n",
       "      <th>63</th>\n",
       "      <td>6.1</td>\n",
       "      <td>2.9</td>\n",
       "      <td>4.7</td>\n",
       "      <td>1.4</td>\n",
       "    </tr>\n",
       "    <tr>\n",
       "      <th>133</th>\n",
       "      <td>6.3</td>\n",
       "      <td>2.8</td>\n",
       "      <td>5.1</td>\n",
       "      <td>1.5</td>\n",
       "    </tr>\n",
       "    <tr>\n",
       "      <th>56</th>\n",
       "      <td>6.3</td>\n",
       "      <td>3.3</td>\n",
       "      <td>4.7</td>\n",
       "      <td>1.6</td>\n",
       "    </tr>\n",
       "    <tr>\n",
       "      <th>127</th>\n",
       "      <td>6.1</td>\n",
       "      <td>3.0</td>\n",
       "      <td>4.9</td>\n",
       "      <td>1.8</td>\n",
       "    </tr>\n",
       "  </tbody>\n",
       "</table>\n",
       "</div>"
      ],
      "text/plain": [
       "     sepal_length  sepal_width  petal_length  petal_width\n",
       "107           7.3          2.9           6.3          1.8\n",
       "63            6.1          2.9           4.7          1.4\n",
       "133           6.3          2.8           5.1          1.5\n",
       "56            6.3          3.3           4.7          1.6\n",
       "127           6.1          3.0           4.9          1.8"
      ]
     },
     "execution_count": 8,
     "metadata": {},
     "output_type": "execute_result"
    }
   ],
   "source": [
    "X_test.head()"
   ]
  },
  {
   "cell_type": "code",
   "execution_count": 9,
   "id": "19d530aa-d7e9-44c3-b0e8-56d2bbeb53fa",
   "metadata": {},
   "outputs": [
    {
     "data": {
      "text/plain": [
       "98     1\n",
       "68     1\n",
       "19     0\n",
       "143    2\n",
       "99     1\n",
       "Name: species, dtype: int64"
      ]
     },
     "execution_count": 9,
     "metadata": {},
     "output_type": "execute_result"
    }
   ],
   "source": [
    "y_train.head()"
   ]
  },
  {
   "cell_type": "code",
   "execution_count": 10,
   "id": "9ea6f70f-bb42-4509-a7ab-73bbdd58747e",
   "metadata": {},
   "outputs": [
    {
     "data": {
      "text/plain": [
       "107    2\n",
       "63     1\n",
       "133    2\n",
       "56     1\n",
       "127    2\n",
       "Name: species, dtype: int64"
      ]
     },
     "execution_count": 10,
     "metadata": {},
     "output_type": "execute_result"
    }
   ],
   "source": [
    "y_test.head()"
   ]
  },
  {
   "cell_type": "markdown",
   "id": "b9b0ff1f-0505-4dc1-a94b-54384937fb93",
   "metadata": {},
   "source": [
    "# Preprocessing pipeline"
   ]
  },
  {
   "cell_type": "code",
   "execution_count": 11,
   "id": "111384d6-2eb1-4e17-8687-43649ba84ad6",
   "metadata": {},
   "outputs": [
    {
     "data": {
      "text/plain": [
       "['sepal_length', 'sepal_width', 'petal_length', 'petal_width']"
      ]
     },
     "execution_count": 11,
     "metadata": {},
     "output_type": "execute_result"
    }
   ],
   "source": [
    "feats = X_train.columns.to_list()\n",
    "feats"
   ]
  },
  {
   "cell_type": "code",
   "execution_count": 12,
   "id": "af45b9f6-2ba4-4044-b291-0e3a3876d3a6",
   "metadata": {},
   "outputs": [],
   "source": [
    "preprocessing = make_pipeline(\n",
    "    StandardScaler()\n",
    ")"
   ]
  },
  {
   "cell_type": "code",
   "execution_count": 13,
   "id": "539dfb57-d5b7-4160-934c-6307fd79eab1",
   "metadata": {},
   "outputs": [
    {
     "data": {
      "text/plain": [
       "array([-0.90045861, -1.22024754, -0.4419858 , -0.13661044])"
      ]
     },
     "execution_count": 13,
     "metadata": {},
     "output_type": "execute_result"
    }
   ],
   "source": [
    "# Test the transformaton\n",
    "X_train_transformed = preprocessing.fit_transform(X_train)\n",
    "X_train_transformed[0]"
   ]
  },
  {
   "cell_type": "markdown",
   "id": "0d9c64c0-1fd5-49dd-90cd-d72ea702ffcf",
   "metadata": {},
   "source": [
    "# Modelling"
   ]
  },
  {
   "cell_type": "markdown",
   "id": "0dc7ab89-ea07-43bc-a7fb-1fc0de582227",
   "metadata": {},
   "source": [
    "### Ridge Classifier"
   ]
  },
  {
   "cell_type": "code",
   "execution_count": 14,
   "id": "d62fb228-d916-4ab6-82b7-856941335005",
   "metadata": {},
   "outputs": [],
   "source": [
    "ridge_clf = make_pipeline(\n",
    "    preprocessing,\n",
    "    RidgeClassifier(random_state=42)\n",
    ")"
   ]
  },
  {
   "cell_type": "code",
   "execution_count": 15,
   "id": "0f4b1aa6-1db4-4e6a-b208-4ba5ed8dc842",
   "metadata": {},
   "outputs": [],
   "source": [
    "ridge_clf.fit(X_train, y_train)\n",
    "ridge_preds = ridge_clf.predict(X_train)"
   ]
  },
  {
   "cell_type": "code",
   "execution_count": 16,
   "id": "82baa7d7-fe6c-41c3-bc07-b07050b9e5a2",
   "metadata": {},
   "outputs": [
    {
     "data": {
      "text/plain": [
       "0.8761904761904762"
      ]
     },
     "execution_count": 16,
     "metadata": {},
     "output_type": "execute_result"
    }
   ],
   "source": [
    "accuracy_score(y_train, ridge_preds)"
   ]
  },
  {
   "cell_type": "markdown",
   "id": "ceec6a81-1ecc-4a66-bda6-263d3765405b",
   "metadata": {},
   "source": [
    "Evaluate it on the validation set"
   ]
  },
  {
   "cell_type": "code",
   "execution_count": 17,
   "id": "ff2783b5-9d5b-46a5-9563-a0bfd9f573d6",
   "metadata": {},
   "outputs": [],
   "source": [
    "# Get out of sample predictions\n",
    "ridge_val_preds = cross_val_predict(ridge_clf, X_train, y_train, cv=3)"
   ]
  },
  {
   "cell_type": "code",
   "execution_count": 18,
   "id": "402fc2de-cb47-401a-b08e-0f01b745f5ec",
   "metadata": {},
   "outputs": [
    {
     "data": {
      "image/png": "[encoded data removed]",
      "text/plain": [
       "<Figure size 640x480 with 2 Axes>"
      ]
     },
     "metadata": {},
     "output_type": "display_data"
    }
   ],
   "source": [
    "ConfusionMatrixDisplay.from_predictions(y_true=y_train, y_pred=ridge_val_preds)\n",
    "plt.show()"
   ]
  },
  {
   "cell_type": "markdown",
   "id": "fe777c2a-e89f-4350-9463-3edafafacdbd",
   "metadata": {},
   "source": [
    "The relationship between the variables are not really linear. This is expected\n",
    "\n",
    "Lets try a more powerful model"
   ]
  },
  {
   "cell_type": "markdown",
   "id": "0a5cb060-6da0-497c-8718-0163e0f80799",
   "metadata": {},
   "source": [
    "### SVM"
   ]
  },
  {
   "cell_type": "code",
   "execution_count": 19,
   "id": "ca05e8e1-de55-4438-a95a-e2f9f80ff940",
   "metadata": {},
   "outputs": [],
   "source": [
    "svc_clf = make_pipeline(\n",
    "    preprocessing,\n",
    "    SVC(random_state=42, kernel='rbf', probability=True, decision_function_shape='ovo')\n",
    ")"
   ]
  },
  {
   "cell_type": "code",
   "execution_count": 20,
   "id": "36bb1dc2-8d77-45e2-99b3-a38935e341cf",
   "metadata": {},
   "outputs": [],
   "source": [
    "# Crossvalidation score\n",
    "svc_accs = cross_val_score(svc_clf, X_train, y_train,\n",
    "                              scoring='accuracy', cv=3)"
   ]
  },
  {
   "cell_type": "code",
   "execution_count": 21,
   "id": "07dac538-5a7d-4176-84fb-61574e3958d5",
   "metadata": {},
   "outputs": [
    {
     "data": {
      "text/plain": [
       "array([0.97142857, 0.94285714, 0.97142857])"
      ]
     },
     "execution_count": 21,
     "metadata": {},
     "output_type": "execute_result"
    }
   ],
   "source": [
    "svc_accs"
   ]
  },
  {
   "cell_type": "code",
   "execution_count": 22,
   "id": "be2a12bf-66a2-44f2-a00c-791605d8c13b",
   "metadata": {},
   "outputs": [
    {
     "data": {
      "text/plain": [
       "count    3.000000\n",
       "mean     0.961905\n",
       "std      0.016496\n",
       "min      0.942857\n",
       "25%      0.957143\n",
       "50%      0.971429\n",
       "75%      0.971429\n",
       "max      0.971429\n",
       "dtype: float64"
      ]
     },
     "execution_count": 22,
     "metadata": {},
     "output_type": "execute_result"
    }
   ],
   "source": [
    "pd.Series(svc_accs).describe()"
   ]
  },
  {
   "cell_type": "code",
   "execution_count": 23,
   "id": "2b1860a4-a90c-425c-918a-c936fa1688fa",
   "metadata": {},
   "outputs": [],
   "source": [
    "# Out of sample predictions\n",
    "svc_val_preds = cross_val_predict(svc_clf, X_train, y_train, cv=3)"
   ]
  },
  {
   "cell_type": "code",
   "execution_count": 24,
   "id": "7c09e35a-7951-4e78-a683-ce5a6846735a",
   "metadata": {},
   "outputs": [
    {
     "name": "stdout",
     "output_type": "stream",
     "text": [
      "              precision    recall  f1-score   support\n",
      "\n",
      "           0       1.00      1.00      1.00        35\n",
      "           1       0.94      0.94      0.94        35\n",
      "           2       0.94      0.94      0.94        35\n",
      "\n",
      "    accuracy                           0.96       105\n",
      "   macro avg       0.96      0.96      0.96       105\n",
      "weighted avg       0.96      0.96      0.96       105\n",
      "\n"
     ]
    }
   ],
   "source": [
    "print(classification_report(y_train, svc_val_preds))"
   ]
  },
  {
   "cell_type": "code",
   "execution_count": 25,
   "id": "78dc1c60-4fa2-40e7-a38d-78e1778e55cc",
   "metadata": {},
   "outputs": [
    {
     "data": {
      "image/png": "[encoded data removed]",
      "text/plain": [
       "<Figure size 640x480 with 2 Axes>"
      ]
     },
     "metadata": {},
     "output_type": "display_data"
    }
   ],
   "source": [
    "ConfusionMatrixDisplay.from_predictions(y_true=y_train, y_pred=svc_val_preds)\n",
    "plt.show()"
   ]
  },
  {
   "cell_type": "markdown",
   "id": "7816c126-1cf5-4c8f-b7d3-5298c3f8d65b",
   "metadata": {},
   "source": [
    "### Hyperparameter tuning"
   ]
  },
  {
   "cell_type": "code",
   "execution_count": 26,
   "id": "5cbd0724-d860-40b2-a259-21862d379029",
   "metadata": {},
   "outputs": [],
   "source": [
    "svc_tune_pipeline = make_pipeline(\n",
    "    preprocessing,\n",
    "    SVC(random_state=42, kernel='rbf', probability=True, decision_function_shape='ovo'))"
   ]
  },
  {
   "cell_type": "code",
   "execution_count": 27,
   "id": "4e60c6c7-fe49-4736-aa18-b8865bbf1e42",
   "metadata": {},
   "outputs": [],
   "source": [
    "# for i in svc_tune_pipeline.get_params().keys():\n",
    "#     print(i)"
   ]
  },
  {
   "cell_type": "code",
   "execution_count": 28,
   "id": "52316829-7449-436a-a3ea-280d28d8e3d8",
   "metadata": {},
   "outputs": [],
   "source": [
    "svc_param_grid = [\n",
    "    {\n",
    "        \"svc__kernel\": ['rbf'],\n",
    "        \"svc__gamma\": ['scale', 'auto'],\n",
    "        \"svc__C\": [0.001, 0.01, 0.1, 1, 10]\n",
    "    },\n",
    "    {\n",
    "        \"svc__kernel\": ['poly'],\n",
    "        \"svc__degree\": [2,], # 3\n",
    "        \"svc__coef0\": [1, 5, 10],\n",
    "        \"svc__gamma\": ['scale'],\n",
    "        \"svc__C\": [0.001, 0.01, 0.1]\n",
    "    }\n",
    "]"
   ]
  },
  {
   "cell_type": "code",
   "execution_count": 29,
   "id": "f378523a-76d6-49ff-9d3e-b12d42a841f0",
   "metadata": {},
   "outputs": [],
   "source": [
    "from sklearn.model_selection import GridSearchCV"
   ]
  },
  {
   "cell_type": "code",
   "execution_count": 30,
   "id": "b7486a28-ae26-4ee0-994d-a184639d7da5",
   "metadata": {},
   "outputs": [
    {
     "data": {
      "text/plain": [
       "0.980952380952381"
      ]
     },
     "execution_count": 30,
     "metadata": {},
     "output_type": "execute_result"
    }
   ],
   "source": [
    "svc_gs = GridSearchCV(svc_tune_pipeline, svc_param_grid, cv=3, scoring='accuracy')\n",
    "svc_gs.fit(X_train, y_train)\n",
    "svc_gs.best_score_ # Best validataion score"
   ]
  },
  {
   "cell_type": "code",
   "execution_count": 31,
   "id": "9c6f0f36-e739-4664-90cf-2ee86284e999",
   "metadata": {},
   "outputs": [
    {
     "data": {
      "text/html": [
       "<div>\n",
       "<style scoped>\n",
       "    .dataframe tbody tr th:only-of-type {\n",
       "        vertical-align: middle;\n",
       "    }\n",
       "\n",
       "    .dataframe tbody tr th {\n",
       "        vertical-align: top;\n",
       "    }\n",
       "\n",
       "    .dataframe thead th {\n",
       "        text-align: right;\n",
       "    }\n",
       "</style>\n",
       "<table border=\"1\" class=\"dataframe\">\n",
       "  <thead>\n",
       "    <tr style=\"text-align: right;\">\n",
       "      <th></th>\n",
       "      <th>param_svc__C</th>\n",
       "      <th>param_svc__gamma</th>\n",
       "      <th>param_svc__kernel</th>\n",
       "      <th>param_svc__coef0</th>\n",
       "      <th>param_svc__degree</th>\n",
       "      <th>split0_test_score</th>\n",
       "      <th>split1_test_score</th>\n",
       "      <th>split2_test_score</th>\n",
       "      <th>mean_test_score</th>\n",
       "      <th>std_test_score</th>\n",
       "      <th>rank_test_score</th>\n",
       "    </tr>\n",
       "  </thead>\n",
       "  <tbody>\n",
       "    <tr>\n",
       "      <th>18</th>\n",
       "      <td>0.1</td>\n",
       "      <td>scale</td>\n",
       "      <td>poly</td>\n",
       "      <td>10</td>\n",
       "      <td>2</td>\n",
       "      <td>0.971429</td>\n",
       "      <td>0.971429</td>\n",
       "      <td>1.000000</td>\n",
       "      <td>0.980952</td>\n",
       "      <td>0.013469</td>\n",
       "      <td>1</td>\n",
       "    </tr>\n",
       "    <tr>\n",
       "      <th>17</th>\n",
       "      <td>0.1</td>\n",
       "      <td>scale</td>\n",
       "      <td>poly</td>\n",
       "      <td>5</td>\n",
       "      <td>2</td>\n",
       "      <td>0.971429</td>\n",
       "      <td>0.971429</td>\n",
       "      <td>1.000000</td>\n",
       "      <td>0.980952</td>\n",
       "      <td>0.013469</td>\n",
       "      <td>1</td>\n",
       "    </tr>\n",
       "    <tr>\n",
       "      <th>8</th>\n",
       "      <td>10</td>\n",
       "      <td>scale</td>\n",
       "      <td>rbf</td>\n",
       "      <td>NaN</td>\n",
       "      <td>NaN</td>\n",
       "      <td>0.971429</td>\n",
       "      <td>0.942857</td>\n",
       "      <td>1.000000</td>\n",
       "      <td>0.971429</td>\n",
       "      <td>0.023328</td>\n",
       "      <td>3</td>\n",
       "    </tr>\n",
       "    <tr>\n",
       "      <th>9</th>\n",
       "      <td>10</td>\n",
       "      <td>auto</td>\n",
       "      <td>rbf</td>\n",
       "      <td>NaN</td>\n",
       "      <td>NaN</td>\n",
       "      <td>0.971429</td>\n",
       "      <td>0.942857</td>\n",
       "      <td>1.000000</td>\n",
       "      <td>0.971429</td>\n",
       "      <td>0.023328</td>\n",
       "      <td>3</td>\n",
       "    </tr>\n",
       "    <tr>\n",
       "      <th>6</th>\n",
       "      <td>1</td>\n",
       "      <td>scale</td>\n",
       "      <td>rbf</td>\n",
       "      <td>NaN</td>\n",
       "      <td>NaN</td>\n",
       "      <td>0.971429</td>\n",
       "      <td>0.942857</td>\n",
       "      <td>0.971429</td>\n",
       "      <td>0.961905</td>\n",
       "      <td>0.013469</td>\n",
       "      <td>5</td>\n",
       "    </tr>\n",
       "    <tr>\n",
       "      <th>7</th>\n",
       "      <td>1</td>\n",
       "      <td>auto</td>\n",
       "      <td>rbf</td>\n",
       "      <td>NaN</td>\n",
       "      <td>NaN</td>\n",
       "      <td>0.971429</td>\n",
       "      <td>0.942857</td>\n",
       "      <td>0.971429</td>\n",
       "      <td>0.961905</td>\n",
       "      <td>0.013469</td>\n",
       "      <td>5</td>\n",
       "    </tr>\n",
       "    <tr>\n",
       "      <th>16</th>\n",
       "      <td>0.1</td>\n",
       "      <td>scale</td>\n",
       "      <td>poly</td>\n",
       "      <td>1</td>\n",
       "      <td>2</td>\n",
       "      <td>0.971429</td>\n",
       "      <td>0.914286</td>\n",
       "      <td>0.885714</td>\n",
       "      <td>0.923810</td>\n",
       "      <td>0.035635</td>\n",
       "      <td>7</td>\n",
       "    </tr>\n",
       "    <tr>\n",
       "      <th>14</th>\n",
       "      <td>0.01</td>\n",
       "      <td>scale</td>\n",
       "      <td>poly</td>\n",
       "      <td>5</td>\n",
       "      <td>2</td>\n",
       "      <td>0.914286</td>\n",
       "      <td>0.885714</td>\n",
       "      <td>0.885714</td>\n",
       "      <td>0.895238</td>\n",
       "      <td>0.013469</td>\n",
       "      <td>8</td>\n",
       "    </tr>\n",
       "    <tr>\n",
       "      <th>15</th>\n",
       "      <td>0.01</td>\n",
       "      <td>scale</td>\n",
       "      <td>poly</td>\n",
       "      <td>10</td>\n",
       "      <td>2</td>\n",
       "      <td>0.914286</td>\n",
       "      <td>0.885714</td>\n",
       "      <td>0.885714</td>\n",
       "      <td>0.895238</td>\n",
       "      <td>0.013469</td>\n",
       "      <td>8</td>\n",
       "    </tr>\n",
       "    <tr>\n",
       "      <th>4</th>\n",
       "      <td>0.1</td>\n",
       "      <td>scale</td>\n",
       "      <td>rbf</td>\n",
       "      <td>NaN</td>\n",
       "      <td>NaN</td>\n",
       "      <td>0.914286</td>\n",
       "      <td>0.857143</td>\n",
       "      <td>0.857143</td>\n",
       "      <td>0.876190</td>\n",
       "      <td>0.026937</td>\n",
       "      <td>10</td>\n",
       "    </tr>\n",
       "  </tbody>\n",
       "</table>\n",
       "</div>"
      ],
      "text/plain": [
       "   param_svc__C param_svc__gamma param_svc__kernel param_svc__coef0  \\\n",
       "18        0.1        scale             poly                10         \n",
       "17        0.1        scale             poly                 5         \n",
       "8          10        scale              rbf               NaN         \n",
       "9          10         auto              rbf               NaN         \n",
       "6           1        scale              rbf               NaN         \n",
       "7           1         auto              rbf               NaN         \n",
       "16        0.1        scale             poly                 1         \n",
       "14       0.01        scale             poly                 5         \n",
       "15       0.01        scale             poly                10         \n",
       "4         0.1        scale              rbf               NaN         \n",
       "\n",
       "   param_svc__degree  split0_test_score  split1_test_score  split2_test_score  \\\n",
       "18          2          0.971429           0.971429           1.000000           \n",
       "17          2          0.971429           0.971429           1.000000           \n",
       "8         NaN          0.971429           0.942857           1.000000           \n",
       "9         NaN          0.971429           0.942857           1.000000           \n",
       "6         NaN          0.971429           0.942857           0.971429           \n",
       "7         NaN          0.971429           0.942857           0.971429           \n",
       "16          2          0.971429           0.914286           0.885714           \n",
       "14          2          0.914286           0.885714           0.885714           \n",
       "15          2          0.914286           0.885714           0.885714           \n",
       "4         NaN          0.914286           0.857143           0.857143           \n",
       "\n",
       "    mean_test_score  std_test_score  rank_test_score  \n",
       "18   0.980952         0.013469               1        \n",
       "17   0.980952         0.013469               1        \n",
       "8    0.971429         0.023328               3        \n",
       "9    0.971429         0.023328               3        \n",
       "6    0.961905         0.013469               5        \n",
       "7    0.961905         0.013469               5        \n",
       "16   0.923810         0.035635               7        \n",
       "14   0.895238         0.013469               8        \n",
       "15   0.895238         0.013469               8        \n",
       "4    0.876190         0.026937              10        "
      ]
     },
     "execution_count": 31,
     "metadata": {},
     "output_type": "execute_result"
    }
   ],
   "source": [
    "pd.options.display.max_colwidth = 10\n",
    "svc_gs_df = pd.DataFrame(svc_gs.cv_results_)\n",
    "svc_gs_df.sort_values(by='mean_test_score', ascending=False, inplace=True)\n",
    "svc_gs_df.drop([\"mean_fit_time\", \"std_fit_time\", \"mean_score_time\", \"std_score_time\", \"params\"], axis= \"columns\").head(10)"
   ]
  },
  {
   "cell_type": "code",
   "execution_count": 32,
   "id": "95a50152-affe-4c24-975c-a1f6e446935c",
   "metadata": {},
   "outputs": [],
   "source": [
    "# Use the best params to get out of sample predictions on X_train"
   ]
  },
  {
   "cell_type": "code",
   "execution_count": 33,
   "id": "64c9f97a-50ce-401e-9342-4162353636cd",
   "metadata": {},
   "outputs": [
    {
     "data": {
      "text/plain": [
       "{'svc__C': 0.1,\n",
       " 'svc__coef0': 5,\n",
       " 'svc__degree': 2,\n",
       " 'svc__gamma': 'scale',\n",
       " 'svc__kernel': 'poly'}"
      ]
     },
     "execution_count": 33,
     "metadata": {},
     "output_type": "execute_result"
    }
   ],
   "source": [
    "svc_gs.best_params_"
   ]
  },
  {
   "cell_type": "code",
   "execution_count": 34,
   "id": "9608d318-e757-43df-adce-b473362d84d6",
   "metadata": {},
   "outputs": [],
   "source": [
    "# Out of sample predictions\n",
    "svc_tune_preds = cross_val_predict(svc_gs, X_train, y_train, cv=3)"
   ]
  },
  {
   "cell_type": "code",
   "execution_count": 35,
   "id": "459e777e-d886-4b7a-a715-682199fe2a2f",
   "metadata": {},
   "outputs": [
    {
     "name": "stdout",
     "output_type": "stream",
     "text": [
      "              precision    recall  f1-score   support\n",
      "\n",
      "           0       1.00      1.00      1.00        35\n",
      "           1       0.97      0.94      0.96        35\n",
      "           2       0.94      0.97      0.96        35\n",
      "\n",
      "    accuracy                           0.97       105\n",
      "   macro avg       0.97      0.97      0.97       105\n",
      "weighted avg       0.97      0.97      0.97       105\n",
      "\n"
     ]
    }
   ],
   "source": [
    "print(classification_report(y_train, svc_tune_preds))"
   ]
  },
  {
   "cell_type": "code",
   "execution_count": 36,
   "id": "7e7c9e95-8e77-481a-a4db-11068b37aba0",
   "metadata": {},
   "outputs": [
    {
     "data": {
      "image/png": "[encoded data removed]",
      "text/plain": [
       "<Figure size 640x480 with 2 Axes>"
      ]
     },
     "metadata": {},
     "output_type": "display_data"
    }
   ],
   "source": [
    "# plt.rc('font', size=9)  #  make the text smaller\n",
    "ConfusionMatrixDisplay.from_predictions(y_true=y_train, y_pred=svc_tune_preds)\n",
    "plt.show()"
   ]
  },
  {
   "cell_type": "markdown",
   "id": "772cadc3-9b47-4c6b-aeb0-b3d80f510d98",
   "metadata": {},
   "source": [
    "We got an imporoved validation score. and the standard deviation was slightly improved"
   ]
  },
  {
   "cell_type": "markdown",
   "id": "e71e2136-3cc9-4131-9aa1-6043c54bf574",
   "metadata": {},
   "source": [
    "# Get test set performance"
   ]
  },
  {
   "cell_type": "code",
   "execution_count": 37,
   "id": "7c118ceb-74e4-4e57-a9ee-96d5057da97b",
   "metadata": {},
   "outputs": [
    {
     "data": {
      "text/html": [
       "<style>#sk-container-id-1 {color: black;}#sk-container-id-1 pre{padding: 0;}#sk-container-id-1 div.sk-toggleable {background-color: white;}#sk-container-id-1 label.sk-toggleable__label {cursor: pointer;display: block;width: 100%;margin-bottom: 0;padding: 0.3em;box-sizing: border-box;text-align: center;}#sk-container-id-1 label.sk-toggleable__label-arrow:before {content: \"▸\";float: left;margin-right: 0.25em;color: #696969;}#sk-container-id-1 label.sk-toggleable__label-arrow:hover:before {color: black;}#sk-container-id-1 div.sk-estimator:hover label.sk-toggleable__label-arrow:before {color: black;}#sk-container-id-1 div.sk-toggleable__content {max-height: 0;max-width: 0;overflow: hidden;text-align: left;background-color: #f0f8ff;}#sk-container-id-1 div.sk-toggleable__content pre {margin: 0.2em;color: black;border-radius: 0.25em;background-color: #f0f8ff;}#sk-container-id-1 input.sk-toggleable__control:checked~div.sk-toggleable__content {max-height: 200px;max-width: 100%;overflow: auto;}#sk-container-id-1 input.sk-toggleable__control:checked~label.sk-toggleable__label-arrow:before {content: \"▾\";}#sk-container-id-1 div.sk-estimator input.sk-toggleable__control:checked~label.sk-toggleable__label {background-color: #d4ebff;}#sk-container-id-1 div.sk-label input.sk-toggleable__control:checked~label.sk-toggleable__label {background-color: #d4ebff;}#sk-container-id-1 input.sk-hidden--visually {border: 0;clip: rect(1px 1px 1px 1px);clip: rect(1px, 1px, 1px, 1px);height: 1px;margin: -1px;overflow: hidden;padding: 0;position: absolute;width: 1px;}#sk-container-id-1 div.sk-estimator {font-family: monospace;background-color: #f0f8ff;border: 1px dotted black;border-radius: 0.25em;box-sizing: border-box;margin-bottom: 0.5em;}#sk-container-id-1 div.sk-estimator:hover {background-color: #d4ebff;}#sk-container-id-1 div.sk-parallel-item::after {content: \"\";width: 100%;border-bottom: 1px solid gray;flex-grow: 1;}#sk-container-id-1 div.sk-label:hover label.sk-toggleable__label {background-color: #d4ebff;}#sk-container-id-1 div.sk-serial::before {content: \"\";position: absolute;border-left: 1px solid gray;box-sizing: border-box;top: 0;bottom: 0;left: 50%;z-index: 0;}#sk-container-id-1 div.sk-serial {display: flex;flex-direction: column;align-items: center;background-color: white;padding-right: 0.2em;padding-left: 0.2em;position: relative;}#sk-container-id-1 div.sk-item {position: relative;z-index: 1;}#sk-container-id-1 div.sk-parallel {display: flex;align-items: stretch;justify-content: center;background-color: white;position: relative;}#sk-container-id-1 div.sk-item::before, #sk-container-id-1 div.sk-parallel-item::before {content: \"\";position: absolute;border-left: 1px solid gray;box-sizing: border-box;top: 0;bottom: 0;left: 50%;z-index: -1;}#sk-container-id-1 div.sk-parallel-item {display: flex;flex-direction: column;z-index: 1;position: relative;background-color: white;}#sk-container-id-1 div.sk-parallel-item:first-child::after {align-self: flex-end;width: 50%;}#sk-container-id-1 div.sk-parallel-item:last-child::after {align-self: flex-start;width: 50%;}#sk-container-id-1 div.sk-parallel-item:only-child::after {width: 0;}#sk-container-id-1 div.sk-dashed-wrapped {border: 1px dashed gray;margin: 0 0.4em 0.5em 0.4em;box-sizing: border-box;padding-bottom: 0.4em;background-color: white;}#sk-container-id-1 div.sk-label label {font-family: monospace;font-weight: bold;display: inline-block;line-height: 1.2em;}#sk-container-id-1 div.sk-label-container {text-align: center;}#sk-container-id-1 div.sk-container {/* jupyter's `normalize.less` sets `[hidden] { display: none; }` but bootstrap.min.css set `[hidden] { display: none !important; }` so we also need the `!important` here to be able to override the default hidden behavior on the sphinx rendered scikit-learn.org. See: https://github.com/scikit-learn/scikit-learn/issues/21755 */display: inline-block !important;position: relative;}#sk-container-id-1 div.sk-text-repr-fallback {display: none;}</style><div id=\"sk-container-id-1\" class=\"sk-top-container\"><div class=\"sk-text-repr-fallback\"><pre>Pipeline(steps=[(&#x27;standardscaler&#x27;, StandardScaler()),\n",
       "                (&#x27;svc&#x27;,\n",
       "                 SVC(C=0.1, coef0=5, decision_function_shape=&#x27;ovo&#x27;, degree=2,\n",
       "                     kernel=&#x27;poly&#x27;, probability=True, random_state=42))])</pre><b>In a Jupyter environment, please rerun this cell to show the HTML representation or trust the notebook. <br />On GitHub, the HTML representation is unable to render, please try loading this page with nbviewer.org.</b></div><div class=\"sk-container\" hidden><div class=\"sk-item sk-dashed-wrapped\"><div class=\"sk-label-container\"><div class=\"sk-label sk-toggleable\"><input class=\"sk-toggleable__control sk-hidden--visually\" id=\"sk-estimator-id-1\" type=\"checkbox\" ><label for=\"sk-estimator-id-1\" class=\"sk-toggleable__label sk-toggleable__label-arrow\">Pipeline</label><div class=\"sk-toggleable__content\"><pre>Pipeline(steps=[(&#x27;standardscaler&#x27;, StandardScaler()),\n",
       "                (&#x27;svc&#x27;,\n",
       "                 SVC(C=0.1, coef0=5, decision_function_shape=&#x27;ovo&#x27;, degree=2,\n",
       "                     kernel=&#x27;poly&#x27;, probability=True, random_state=42))])</pre></div></div></div><div class=\"sk-serial\"><div class=\"sk-item\"><div class=\"sk-estimator sk-toggleable\"><input class=\"sk-toggleable__control sk-hidden--visually\" id=\"sk-estimator-id-2\" type=\"checkbox\" ><label for=\"sk-estimator-id-2\" class=\"sk-toggleable__label sk-toggleable__label-arrow\">StandardScaler</label><div class=\"sk-toggleable__content\"><pre>StandardScaler()</pre></div></div></div><div class=\"sk-item\"><div class=\"sk-estimator sk-toggleable\"><input class=\"sk-toggleable__control sk-hidden--visually\" id=\"sk-estimator-id-3\" type=\"checkbox\" ><label for=\"sk-estimator-id-3\" class=\"sk-toggleable__label sk-toggleable__label-arrow\">SVC</label><div class=\"sk-toggleable__content\"><pre>SVC(C=0.1, coef0=5, decision_function_shape=&#x27;ovo&#x27;, degree=2, kernel=&#x27;poly&#x27;,\n",
       "    probability=True, random_state=42)</pre></div></div></div></div></div></div></div>"
      ],
      "text/plain": [
       "Pipeline(steps=[('standardscaler', StandardScaler()),\n",
       "                ('svc',\n",
       "                 SVC(C=0.1, coef0=5, decision_function_shape='ovo', degree=2,\n",
       "                     kernel='poly', probability=True, random_state=42))])"
      ]
     },
     "execution_count": 37,
     "metadata": {},
     "output_type": "execute_result"
    }
   ],
   "source": [
    "svc_final_model = make_pipeline(\n",
    "    StandardScaler(),\n",
    "    SVC(C=0.1, coef0=5, degree=2,\n",
    "        gamma=\"scale\", kernel='poly', \n",
    "        random_state=42, decision_function_shape='ovo',\n",
    "        probability=True))\n",
    "\n",
    "svc_final_model.fit(X_train, y_train)"
   ]
  },
  {
   "cell_type": "code",
   "execution_count": 38,
   "id": "90f532d8-9c5c-4d38-b9e0-875bb0b9562d",
   "metadata": {},
   "outputs": [],
   "source": [
    "svc_test_preds = svc_final_model.predict(X_test)"
   ]
  },
  {
   "cell_type": "code",
   "execution_count": 39,
   "id": "00ac5589-edab-49d4-95a8-a723fb141b89",
   "metadata": {},
   "outputs": [
    {
     "name": "stdout",
     "output_type": "stream",
     "text": [
      "              precision    recall  f1-score   support\n",
      "\n",
      "           0       1.00      1.00      1.00        15\n",
      "           1       0.93      0.93      0.93        15\n",
      "           2       0.93      0.93      0.93        15\n",
      "\n",
      "    accuracy                           0.96        45\n",
      "   macro avg       0.96      0.96      0.96        45\n",
      "weighted avg       0.96      0.96      0.96        45\n",
      "\n"
     ]
    }
   ],
   "source": [
    "print(classification_report(y_test, svc_test_preds))"
   ]
  },
  {
   "cell_type": "code",
   "execution_count": 40,
   "id": "63aa0ee6-b3b3-40ec-aa15-aa7aa48e452a",
   "metadata": {},
   "outputs": [
    {
     "data": {
      "image/png": "[encoded data removed]",
      "text/plain": [
       "<Figure size 640x480 with 2 Axes>"
      ]
     },
     "metadata": {},
     "output_type": "display_data"
    }
   ],
   "source": [
    "ConfusionMatrixDisplay.from_predictions(y_true=y_test, y_pred=svc_test_preds)\n",
    "plt.show()"
   ]
  },
  {
   "cell_type": "markdown",
   "id": "49afc452-6054-4852-aea6-44264bd70c1f",
   "metadata": {},
   "source": [
    "96% accuracy"
   ]
  },
  {
   "cell_type": "markdown",
   "id": "a717075b-2ed4-4b06-92bd-0908914f8bda",
   "metadata": {},
   "source": [
    "# Live Predictive analytics with Gradio"
   ]
  },
  {
   "cell_type": "code",
   "execution_count": 43,
   "id": "a8f6d328-99e3-4c94-9e05-d7bfc42e0700",
   "metadata": {},
   "outputs": [],
   "source": [
    "import numpy as np\n",
    "import os\n",
    "from PIL import Image"
   ]
  },
  {
   "cell_type": "code",
   "execution_count": 44,
   "id": "d9c8969b-9347-406d-a06d-7f517d501168",
   "metadata": {},
   "outputs": [],
   "source": [
    "def make_prediction(sepal_length, sepal_width, petal_length, petal_width):\n",
    "    sample = np.array([sepal_length, sepal_width, petal_length, petal_width]).reshape(1, 4)\n",
    "    \n",
    "    df = pd.DataFrame(\n",
    "        sample, \n",
    "        columns=[\n",
    "            'sepal_length', 'sepal_width', \n",
    "            'petal_length', 'petal_width'])\n",
    "\n",
    "    pred = svc_final_model.predict(df)\n",
    "    \n",
    "    pred = ['setosa', 'versicolor', 'virginica'][pred[0]]\n",
    "\n",
    "    predd = f\"Iris {pred}\"\n",
    "\n",
    "    # Load and return image\n",
    "    image_path = os.path.join('images', f'{pred}.jpg')\n",
    "    image = Image.open(image_path)    \n",
    "\n",
    "    return predd, image"
   ]
  },
  {
   "cell_type": "code",
   "execution_count": 45,
   "id": "9ff4bba7-b940-4ba1-b723-7ca4e923dd80",
   "metadata": {},
   "outputs": [],
   "source": [
    "t, p = make_prediction(7.3, 2.2, 4.3, 1.8)"
   ]
  },
  {
   "cell_type": "code",
   "execution_count": 48,
   "id": "48c18c8f-3c5f-4739-b10c-973a277319d4",
   "metadata": {},
   "outputs": [],
   "source": [
    "# t"
   ]
  },
  {
   "cell_type": "code",
   "execution_count": 50,
   "id": "91e807e4-32fb-4a1b-a2db-4dde753e9459",
   "metadata": {},
   "outputs": [],
   "source": [
    "# p"
   ]
  },
  {
   "cell_type": "code",
   "execution_count": 51,
   "id": "e5fd37ab-34e4-4afa-bc0c-dd2add81575b",
   "metadata": {},
   "outputs": [],
   "source": [
    "import gradio as gr"
   ]
  },
  {
   "cell_type": "code",
   "execution_count": 52,
   "id": "9d63c835-b2bd-45ed-bd44-1a508ed92770",
   "metadata": {},
   "outputs": [
    {
     "name": "stdout",
     "output_type": "stream",
     "text": [
      "Running on local URL:  http://127.0.0.1:7860\n",
      "\n",
      "To create a public link, set `share=True` in `launch()`.\n"
     ]
    },
    {
     "data": {
      "text/html": [
       "<div><iframe src=\"http://127.0.0.1:7860/\" width=\"100%\" height=\"500\" allow=\"autoplay; camera; microphone; clipboard-read; clipboard-write;\" frameborder=\"0\" allowfullscreen></iframe></div>"
      ],
      "text/plain": [
       "<IPython.core.display.HTML object>"
      ]
     },
     "metadata": {},
     "output_type": "display_data"
    },
    {
     "data": {
      "text/plain": []
     },
     "execution_count": 52,
     "metadata": {},
     "output_type": "execute_result"
    }
   ],
   "source": [
    "demo = gr.Interface(\n",
    "    fn=make_prediction, \n",
    "    inputs = [\n",
    "        gr.Number(value=1.0, label=\"sepal length (cm)\"),\n",
    "        gr.Number(value=1.0, label=\"sepal width (cm)\"),\n",
    "        gr.Number(value=1.0, label=\"petal length (cm)\"),\n",
    "        gr.Number(value=1.0, label=\"petal width (cm)\"),\n",
    "    ],\n",
    "    outputs=[\n",
    "        gr.Text(),\n",
    "        gr.Image(type='pil')\n",
    "    ],\n",
    "    title='Iris Flower Predictive analytics',\n",
    "    description=\"Experiment with iris variables\"\n",
    ")\n",
    "\n",
    "demo.launch()"
   ]
  },
  {
   "cell_type": "code",
   "execution_count": null,
   "id": "f7e24ca0-74a1-42b3-8c5b-34ed8027fdeb",
   "metadata": {},
   "outputs": [],
   "source": []
  }
 ],
 "metadata": {
  "kernelspec": {
   "display_name": "jupynoteKernel",
   "language": "python",
   "name": "jupynotekernel"
  },
  "language_info": {
   "codemirror_mode": {
    "name": "ipython",
    "version": 3
   },
   "file_extension": ".py",
   "mimetype": "text/x-python",
   "name": "python",
   "nbconvert_exporter": "python",
   "pygments_lexer": "ipython3",
   "version": "3.10.12"
  }
 },
 "nbformat": 4,
 "nbformat_minor": 5
}
