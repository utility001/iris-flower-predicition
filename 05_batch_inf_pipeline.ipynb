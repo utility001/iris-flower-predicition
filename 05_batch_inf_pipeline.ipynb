{
 "cells": [
  {
   "cell_type": "markdown",
   "metadata": {
    "id": "d2kLrOh-bpGy"
   },
   "source": [
    "### Iris Flower - Batch Prediction"
   ]
  },
  {
   "cell_type": "markdown",
   "metadata": {},
   "source": [
    "+ Take some new input data and make some predictions with that new data\n",
    "+ We will write our predictions back to the feature store\n",
    "+ Output some assets that will be shown by streamlit UI"
   ]
  },
  {
   "cell_type": "code",
   "execution_count": 21,
   "metadata": {
    "id": "xRtpj-psbpG8"
   },
   "outputs": [],
   "source": [
    "import pandas as pd\n",
    "import hopsworks\n",
    "import joblib"
   ]
  },
  {
   "cell_type": "code",
   "execution_count": 22,
   "metadata": {
    "id": "xRtpj-psbpG8"
   },
   "outputs": [
    {
     "name": "stdout",
     "output_type": "stream",
     "text": [
      "Connection closed.\n",
      "Connected. Call `.close()` to terminate connection gracefully.\n",
      "\n",
      "Logged in to project, explore it here https://c.app.hopsworks.ai:443/p/70809\n",
      "Connected. Call `.close()` to terminate connection gracefully.\n"
     ]
    }
   ],
   "source": [
    "# Login\n",
    "project = hopsworks.login()\n",
    "fs = project.get_feature_store()"
   ]
  },
  {
   "cell_type": "code",
   "execution_count": 23,
   "metadata": {},
   "outputs": [
    {
     "name": "stdout",
     "output_type": "stream",
     "text": [
      "Connected. Call `.close()` to terminate connection gracefully.\n",
      "Downloading model artifact (0 dirs, 4 files)... DONE\r"
     ]
    }
   ],
   "source": [
    "# Get the model from the model registry\n",
    "mr = project.get_model_registry()\n",
    "model = mr.get_model(\"sklearn_iris\", version=1)\n",
    "model_dir = model.download()"
   ]
  },
  {
   "cell_type": "code",
   "execution_count": 24,
   "metadata": {},
   "outputs": [],
   "source": [
    "# Load the load the downloaded model\n",
    "model = joblib.load(model_dir + \"/iris_model.pkl\")"
   ]
  },
  {
   "cell_type": "markdown",
   "metadata": {},
   "source": [
    "Now we will download the iris data from the feature view.\n",
    "\n",
    "Recall that this is the raw data with no transformation"
   ]
  },
  {
   "cell_type": "code",
   "execution_count": 25,
   "metadata": {
    "colab": {
     "base_uri": "https://localhost:8080/",
     "height": 206
    },
    "id": "nRmFM7vcbpHA",
    "outputId": "d920d168-9818-40c5-c292-4cf0afcbbcfd"
   },
   "outputs": [],
   "source": [
    "feature_view = fs.get_feature_view(name=\"sklearn_iris_dataset\", version=1)"
   ]
  },
  {
   "cell_type": "markdown",
   "metadata": {},
   "source": [
    "Now we will do some **Batch Inference**. \n",
    "\n",
    "We will read all the input features that have arrived in the last 24 hours, and score them."
   ]
  },
  {
   "cell_type": "code",
   "execution_count": 26,
   "metadata": {
    "id": "uHuAD3ttP8Ep"
   },
   "outputs": [
    {
     "name": "stderr",
     "output_type": "stream",
     "text": [
      "UserWarning: Could not establish connection to ArrowFlight Server. (Flight returned timeout error, with message: Deadline Exceeded) Will fall back to hive/spark for this session. If the error persists, you can disable using ArrowFlight by changing the cluster configuration (set 'enable_flyingduck'='false').\n",
      "DeprecationWarning: ssl.PROTOCOL_TLS is deprecated\n"
     ]
    },
    {
     "name": "stdout",
     "output_type": "stream",
     "text": [
      "Finished: Reading data from Hopsworks, using Hive (5.02s) \n"
     ]
    },
    {
     "data": {
      "text/html": [
       "<div>\n",
       "<style scoped>\n",
       "    .dataframe tbody tr th:only-of-type {\n",
       "        vertical-align: middle;\n",
       "    }\n",
       "\n",
       "    .dataframe tbody tr th {\n",
       "        vertical-align: top;\n",
       "    }\n",
       "\n",
       "    .dataframe thead th {\n",
       "        text-align: right;\n",
       "    }\n",
       "</style>\n",
       "<table border=\"1\" class=\"dataframe\">\n",
       "  <thead>\n",
       "    <tr style=\"text-align: right;\">\n",
       "      <th></th>\n",
       "      <th>sepal_length</th>\n",
       "      <th>sepal_width</th>\n",
       "      <th>petal_length</th>\n",
       "      <th>petal_width</th>\n",
       "    </tr>\n",
       "  </thead>\n",
       "  <tbody>\n",
       "    <tr>\n",
       "      <th>149</th>\n",
       "      <td>4.931430</td>\n",
       "      <td>2.776000</td>\n",
       "      <td>5.563321</td>\n",
       "      <td>1.746924</td>\n",
       "    </tr>\n",
       "    <tr>\n",
       "      <th>150</th>\n",
       "      <td>6.927532</td>\n",
       "      <td>3.768837</td>\n",
       "      <td>4.670163</td>\n",
       "      <td>1.533406</td>\n",
       "    </tr>\n",
       "    <tr>\n",
       "      <th>151</th>\n",
       "      <td>5.190488</td>\n",
       "      <td>3.051881</td>\n",
       "      <td>4.700561</td>\n",
       "      <td>1.441109</td>\n",
       "    </tr>\n",
       "    <tr>\n",
       "      <th>152</th>\n",
       "      <td>5.762542</td>\n",
       "      <td>2.266797</td>\n",
       "      <td>5.086353</td>\n",
       "      <td>1.155345</td>\n",
       "    </tr>\n",
       "    <tr>\n",
       "      <th>153</th>\n",
       "      <td>5.402680</td>\n",
       "      <td>3.957419</td>\n",
       "      <td>1.394769</td>\n",
       "      <td>1.869420</td>\n",
       "    </tr>\n",
       "  </tbody>\n",
       "</table>\n",
       "</div>"
      ],
      "text/plain": [
       "     sepal_length  sepal_width  petal_length  petal_width\n",
       "149      4.931430     2.776000      5.563321     1.746924\n",
       "150      6.927532     3.768837      4.670163     1.533406\n",
       "151      5.190488     3.051881      4.700561     1.441109\n",
       "152      5.762542     2.266797      5.086353     1.155345\n",
       "153      5.402680     3.957419      1.394769     1.869420"
      ]
     },
     "execution_count": 26,
     "metadata": {},
     "output_type": "execute_result"
    }
   ],
   "source": [
    "import datetime\n",
    "from PIL import Image\n",
    "\n",
    "batch_data = feature_view.get_batch_data()\n",
    "batch_data.tail()"
   ]
  },
  {
   "cell_type": "code",
   "execution_count": 27,
   "metadata": {
    "id": "uHuAD3ttP8Ep"
   },
   "outputs": [],
   "source": [
    "# Make prediction\n",
    "y_pred = model.predict(batch_data)\n",
    "\n",
    "# y_pred"
   ]
  },
  {
   "cell_type": "markdown",
   "metadata": {},
   "source": [
    "Now we will map the predictions to the actual names of the flower species"
   ]
  },
  {
   "cell_type": "code",
   "execution_count": 28,
   "metadata": {},
   "outputs": [],
   "source": [
    "target = {\n",
    "        0: \"setosa\",\n",
    "        1: \"versicolor\",\n",
    "        2: \"virginica\"\n",
    "    }"
   ]
  },
  {
   "cell_type": "code",
   "execution_count": 29,
   "metadata": {},
   "outputs": [
    {
     "data": {
      "text/plain": [
       "array(['virginica', 'versicolor', 'versicolor', 'versicolor', 'setosa'],\n",
       "      dtype=object)"
      ]
     },
     "execution_count": 29,
     "metadata": {},
     "output_type": "execute_result"
    }
   ],
   "source": [
    "# Convert predictions to a Pandas Series\n",
    "y_pred_series = pd.Series(y_pred)\n",
    "\n",
    "# Map numerical predictions to categorical values using the dictionary\n",
    "mapped_y_pred_series = y_pred_series.map(target)\n",
    "\n",
    "y_pred = mapped_y_pred_series.values\n",
    "y_pred[-5:]"
   ]
  },
  {
   "cell_type": "markdown",
   "metadata": {},
   "source": [
    "Take the last row and predict what it is\n",
    "\n",
    "Batch prediction output is the last entry in the batch - it is output as a file 'latest_iris.png'"
   ]
  },
  {
   "cell_type": "code",
   "execution_count": 30,
   "metadata": {},
   "outputs": [
    {
     "data": {
      "text/plain": [
       "'setosa'"
      ]
     },
     "execution_count": 30,
     "metadata": {},
     "output_type": "execute_result"
    }
   ],
   "source": [
    "# Get the last y_pred prediction\n",
    "flower = y_pred[y_pred.size-1]\n",
    "# flower"
   ]
  },
  {
   "cell_type": "code",
   "execution_count": 31,
   "metadata": {},
   "outputs": [],
   "source": [
    "# Get the path to the image with that name\n",
    "flower_img = \"images/\" + flower + \".png\""
   ]
  },
  {
   "cell_type": "code",
   "execution_count": 32,
   "metadata": {},
   "outputs": [],
   "source": [
    "# Now open the image\n",
    "img = Image.open(flower_img) "
   ]
  },
  {
   "cell_type": "code",
   "execution_count": 33,
   "metadata": {},
   "outputs": [],
   "source": [
    "# Now save it for display. This will be used by the UI\n",
    "img.save(\"pred_assets/latest_iris.png\")"
   ]
  },
  {
   "cell_type": "markdown",
   "metadata": {},
   "source": [
    "Get the actual flower"
   ]
  },
  {
   "cell_type": "code",
   "execution_count": 34,
   "metadata": {},
   "outputs": [
    {
     "name": "stderr",
     "output_type": "stream",
     "text": [
      "DeprecationWarning: ssl.PROTOCOL_TLS is deprecated\n"
     ]
    },
    {
     "name": "stdout",
     "output_type": "stream",
     "text": [
      "Finished: Reading data from Hopsworks, using Hive (2.36s) \n"
     ]
    },
    {
     "data": {
      "text/html": [
       "<div>\n",
       "<style scoped>\n",
       "    .dataframe tbody tr th:only-of-type {\n",
       "        vertical-align: middle;\n",
       "    }\n",
       "\n",
       "    .dataframe tbody tr th {\n",
       "        vertical-align: top;\n",
       "    }\n",
       "\n",
       "    .dataframe thead th {\n",
       "        text-align: right;\n",
       "    }\n",
       "</style>\n",
       "<table border=\"1\" class=\"dataframe\">\n",
       "  <thead>\n",
       "    <tr style=\"text-align: right;\">\n",
       "      <th></th>\n",
       "      <th>sepal_length</th>\n",
       "      <th>sepal_width</th>\n",
       "      <th>petal_length</th>\n",
       "      <th>petal_width</th>\n",
       "      <th>species</th>\n",
       "    </tr>\n",
       "  </thead>\n",
       "  <tbody>\n",
       "    <tr>\n",
       "      <th>149</th>\n",
       "      <td>4.931430</td>\n",
       "      <td>2.776000</td>\n",
       "      <td>5.563321</td>\n",
       "      <td>1.746924</td>\n",
       "      <td>Virginica</td>\n",
       "    </tr>\n",
       "    <tr>\n",
       "      <th>150</th>\n",
       "      <td>6.927532</td>\n",
       "      <td>3.768837</td>\n",
       "      <td>4.670163</td>\n",
       "      <td>1.533406</td>\n",
       "      <td>virginica</td>\n",
       "    </tr>\n",
       "    <tr>\n",
       "      <th>151</th>\n",
       "      <td>5.190488</td>\n",
       "      <td>3.051881</td>\n",
       "      <td>4.700561</td>\n",
       "      <td>1.441109</td>\n",
       "      <td>versicolor</td>\n",
       "    </tr>\n",
       "    <tr>\n",
       "      <th>152</th>\n",
       "      <td>5.762542</td>\n",
       "      <td>2.266797</td>\n",
       "      <td>5.086353</td>\n",
       "      <td>1.155345</td>\n",
       "      <td>versicolor</td>\n",
       "    </tr>\n",
       "    <tr>\n",
       "      <th>153</th>\n",
       "      <td>5.402680</td>\n",
       "      <td>3.957419</td>\n",
       "      <td>1.394769</td>\n",
       "      <td>1.869420</td>\n",
       "      <td>setosa</td>\n",
       "    </tr>\n",
       "  </tbody>\n",
       "</table>\n",
       "</div>"
      ],
      "text/plain": [
       "     sepal_length  sepal_width  petal_length  petal_width     species\n",
       "149      4.931430     2.776000      5.563321     1.746924   Virginica\n",
       "150      6.927532     3.768837      4.670163     1.533406   virginica\n",
       "151      5.190488     3.051881      4.700561     1.441109  versicolor\n",
       "152      5.762542     2.266797      5.086353     1.155345  versicolor\n",
       "153      5.402680     3.957419      1.394769     1.869420      setosa"
      ]
     },
     "execution_count": 34,
     "metadata": {},
     "output_type": "execute_result"
    }
   ],
   "source": [
    "iris_fg = fs.get_feature_group(name=\"sklearn_iris_dataset\", version=1)\n",
    "df = iris_fg.read()\n",
    "# df.tail()"
   ]
  },
  {
   "cell_type": "code",
   "execution_count": 35,
   "metadata": {},
   "outputs": [
    {
     "data": {
      "text/plain": [
       "'setosa'"
      ]
     },
     "execution_count": 35,
     "metadata": {},
     "output_type": "execute_result"
    }
   ],
   "source": [
    "# Locate the label\n",
    "label = df.iloc[-1][\"species\"]\n",
    "# label"
   ]
  },
  {
   "cell_type": "code",
   "execution_count": 36,
   "metadata": {},
   "outputs": [],
   "source": [
    "# Save it for display in the UI\n",
    "label_flower = \"images/\" + label + \".png\"\n",
    "\n",
    "img = Image.open(label_flower)            \n",
    "\n",
    "img.save(\"pred_assets/actual_iris.png\")"
   ]
  },
  {
   "cell_type": "markdown",
   "metadata": {},
   "source": [
    "### Store predictions in prediction feature group"
   ]
  },
  {
   "cell_type": "markdown",
   "metadata": {},
   "source": [
    "We now have our predicted and actual flower.\n",
    "\n",
    "Now we need to store our predictions in a prediciton feature group"
   ]
  },
  {
   "cell_type": "code",
   "execution_count": 17,
   "metadata": {},
   "outputs": [],
   "source": [
    "import pandas as pd\n",
    "\n",
    "# Get/Create feature group (for the purpose of prediction)\n",
    "monitor_fg = fs.get_or_create_feature_group(name=\"sklearn_iris_predictions\",\n",
    "                                  version=1,\n",
    "                                  primary_key=[\"datetime\"],\n",
    "                                  description=\"Iris flower Prediction/Outcome Monitoring\"\n",
    "                                 )"
   ]
  },
  {
   "cell_type": "markdown",
   "metadata": {},
   "source": [
    "Insert our latest prediction into our prediction feature group"
   ]
  },
  {
   "cell_type": "code",
   "execution_count": 37,
   "metadata": {},
   "outputs": [
    {
     "data": {
      "application/vnd.jupyter.widget-view+json": {
       "model_id": "c665376be8604ea8892ef16c786a746a",
       "version_major": 2,
       "version_minor": 0
      },
      "text/plain": [
       "Uploading Dataframe: 0.00% |          | Rows 0/1 | Elapsed Time: 00:00 | Remaining Time: ?"
      ]
     },
     "metadata": {},
     "output_type": "display_data"
    },
    {
     "name": "stdout",
     "output_type": "stream",
     "text": [
      "Launching job: sklearn_iris_predictions_1_offline_fg_materialization\n",
      "Job started successfully, you can follow the progress at \n",
      "https://c.app.hopsworks.ai/p/70809/jobs/named/sklearn_iris_predictions_1_offline_fg_materialization/executions\n"
     ]
    },
    {
     "data": {
      "text/plain": [
       "(<hsfs.core.job.Job at 0x7f5780ef68f0>, None)"
      ]
     },
     "execution_count": 37,
     "metadata": {},
     "output_type": "execute_result"
    }
   ],
   "source": [
    "from datetime import datetime\n",
    "now = datetime.now().strftime(\"%m/%d/%Y, %H:%M:%S\")\n",
    "\n",
    "data = {\n",
    "    'datetime': [now],\n",
    "    \"sepal_length\": df.iloc[-1].loc[\"sepal_length\"],\n",
    "    \"sepal_width\": df.iloc[-1].loc[\"sepal_width\"],\n",
    "    \"petal_length\": df.iloc[-1].loc[\"petal_length\"],\n",
    "    \"petal_width\": df.iloc[-1].loc[\"petal_width\"],\n",
    "    'prediction': [flower],\n",
    "    'actual_label': [label],\n",
    "}\n",
    "monitor_df = pd.DataFrame(data)\n",
    "monitor_fg.insert(monitor_df)"
   ]
  },
  {
   "cell_type": "markdown",
   "metadata": {},
   "source": [
    "make sure the job finishes running before you read"
   ]
  },
  {
   "cell_type": "markdown",
   "metadata": {},
   "source": [
    "Read the historical predictions that were made"
   ]
  },
  {
   "cell_type": "code",
   "execution_count": 38,
   "metadata": {},
   "outputs": [
    {
     "data": {
      "text/html": [
       "<div>\n",
       "<style scoped>\n",
       "    .dataframe tbody tr th:only-of-type {\n",
       "        vertical-align: middle;\n",
       "    }\n",
       "\n",
       "    .dataframe tbody tr th {\n",
       "        vertical-align: top;\n",
       "    }\n",
       "\n",
       "    .dataframe thead th {\n",
       "        text-align: right;\n",
       "    }\n",
       "</style>\n",
       "<table border=\"1\" class=\"dataframe\">\n",
       "  <thead>\n",
       "    <tr style=\"text-align: right;\">\n",
       "      <th></th>\n",
       "      <th>datetime</th>\n",
       "      <th>sepal_length</th>\n",
       "      <th>sepal_width</th>\n",
       "      <th>petal_length</th>\n",
       "      <th>petal_width</th>\n",
       "      <th>prediction</th>\n",
       "      <th>actual_label</th>\n",
       "    </tr>\n",
       "  </thead>\n",
       "  <tbody>\n",
       "    <tr>\n",
       "      <th>0</th>\n",
       "      <td>04/21/2024, 08:19:55</td>\n",
       "      <td>5.40268</td>\n",
       "      <td>3.957419</td>\n",
       "      <td>1.394769</td>\n",
       "      <td>1.86942</td>\n",
       "      <td>setosa</td>\n",
       "      <td>setosa</td>\n",
       "    </tr>\n",
       "  </tbody>\n",
       "</table>\n",
       "</div>"
      ],
      "text/plain": [
       "               datetime  sepal_length  sepal_width  petal_length  petal_width  \\\n",
       "0  04/21/2024, 08:19:55       5.40268     3.957419      1.394769      1.86942   \n",
       "\n",
       "  prediction actual_label  \n",
       "0     setosa       setosa  "
      ]
     },
     "execution_count": 38,
     "metadata": {},
     "output_type": "execute_result"
    }
   ],
   "source": [
    "monitor_df"
   ]
  },
  {
   "cell_type": "code",
   "execution_count": null,
   "metadata": {},
   "outputs": [],
   "source": [
    "import time\n",
    "\n",
    "time.sleep(140)"
   ]
  },
  {
   "cell_type": "code",
   "execution_count": 39,
   "metadata": {},
   "outputs": [
    {
     "name": "stderr",
     "output_type": "stream",
     "text": [
      "DeprecationWarning: ssl.PROTOCOL_TLS is deprecated\n"
     ]
    },
    {
     "name": "stdout",
     "output_type": "stream",
     "text": [
      "Finished: Reading data from Hopsworks, using Hive (2.27s) \n"
     ]
    },
    {
     "data": {
      "text/html": [
       "<div>\n",
       "<style scoped>\n",
       "    .dataframe tbody tr th:only-of-type {\n",
       "        vertical-align: middle;\n",
       "    }\n",
       "\n",
       "    .dataframe tbody tr th {\n",
       "        vertical-align: top;\n",
       "    }\n",
       "\n",
       "    .dataframe thead th {\n",
       "        text-align: right;\n",
       "    }\n",
       "</style>\n",
       "<table border=\"1\" class=\"dataframe\">\n",
       "  <thead>\n",
       "    <tr style=\"text-align: right;\">\n",
       "      <th></th>\n",
       "      <th>datetime</th>\n",
       "      <th>sepal_length</th>\n",
       "      <th>sepal_width</th>\n",
       "      <th>petal_length</th>\n",
       "      <th>petal_width</th>\n",
       "      <th>prediction</th>\n",
       "      <th>actual_label</th>\n",
       "    </tr>\n",
       "  </thead>\n",
       "  <tbody>\n",
       "    <tr>\n",
       "      <th>0</th>\n",
       "      <td>04/20/2024, 11:17:45</td>\n",
       "      <td>5.000000</td>\n",
       "      <td>3.400000</td>\n",
       "      <td>1.600000</td>\n",
       "      <td>0.400000</td>\n",
       "      <td>setosa</td>\n",
       "      <td>setosa</td>\n",
       "    </tr>\n",
       "    <tr>\n",
       "      <th>1</th>\n",
       "      <td>04/20/2024, 11:36:33</td>\n",
       "      <td>6.927532</td>\n",
       "      <td>3.768837</td>\n",
       "      <td>4.670163</td>\n",
       "      <td>1.533406</td>\n",
       "      <td>versicolor</td>\n",
       "      <td>virginica</td>\n",
       "    </tr>\n",
       "    <tr>\n",
       "      <th>2</th>\n",
       "      <td>04/20/2024, 11:38:49</td>\n",
       "      <td>6.927532</td>\n",
       "      <td>3.768837</td>\n",
       "      <td>4.670163</td>\n",
       "      <td>1.533406</td>\n",
       "      <td>versicolor</td>\n",
       "      <td>virginica</td>\n",
       "    </tr>\n",
       "    <tr>\n",
       "      <th>3</th>\n",
       "      <td>04/20/2024, 11:44:43</td>\n",
       "      <td>5.190488</td>\n",
       "      <td>3.051881</td>\n",
       "      <td>4.700561</td>\n",
       "      <td>1.441109</td>\n",
       "      <td>versicolor</td>\n",
       "      <td>versicolor</td>\n",
       "    </tr>\n",
       "    <tr>\n",
       "      <th>4</th>\n",
       "      <td>04/20/2024, 21:40:14</td>\n",
       "      <td>5.190488</td>\n",
       "      <td>3.051881</td>\n",
       "      <td>4.700561</td>\n",
       "      <td>1.441109</td>\n",
       "      <td>versicolor</td>\n",
       "      <td>versicolor</td>\n",
       "    </tr>\n",
       "    <tr>\n",
       "      <th>5</th>\n",
       "      <td>04/20/2024, 21:46:07</td>\n",
       "      <td>5.762542</td>\n",
       "      <td>2.266797</td>\n",
       "      <td>5.086353</td>\n",
       "      <td>1.155345</td>\n",
       "      <td>versicolor</td>\n",
       "      <td>versicolor</td>\n",
       "    </tr>\n",
       "    <tr>\n",
       "      <th>6</th>\n",
       "      <td>04/20/2024, 22:02:54</td>\n",
       "      <td>5.762542</td>\n",
       "      <td>2.266797</td>\n",
       "      <td>5.086353</td>\n",
       "      <td>1.155345</td>\n",
       "      <td>versicolor</td>\n",
       "      <td>versicolor</td>\n",
       "    </tr>\n",
       "    <tr>\n",
       "      <th>7</th>\n",
       "      <td>04/20/2024, 22:19:14</td>\n",
       "      <td>5.762542</td>\n",
       "      <td>2.266797</td>\n",
       "      <td>5.086353</td>\n",
       "      <td>1.155345</td>\n",
       "      <td>versicolor</td>\n",
       "      <td>versicolor</td>\n",
       "    </tr>\n",
       "    <tr>\n",
       "      <th>8</th>\n",
       "      <td>04/21/2024, 06:23:25</td>\n",
       "      <td>5.762542</td>\n",
       "      <td>2.266797</td>\n",
       "      <td>5.086353</td>\n",
       "      <td>1.155345</td>\n",
       "      <td>versicolor</td>\n",
       "      <td>versicolor</td>\n",
       "    </tr>\n",
       "    <tr>\n",
       "      <th>9</th>\n",
       "      <td>04/21/2024, 06:46:03</td>\n",
       "      <td>5.762542</td>\n",
       "      <td>2.266797</td>\n",
       "      <td>5.086353</td>\n",
       "      <td>1.155345</td>\n",
       "      <td>versicolor</td>\n",
       "      <td>versicolor</td>\n",
       "    </tr>\n",
       "    <tr>\n",
       "      <th>10</th>\n",
       "      <td>04/21/2024, 06:59:38</td>\n",
       "      <td>5.762542</td>\n",
       "      <td>2.266797</td>\n",
       "      <td>5.086353</td>\n",
       "      <td>1.155345</td>\n",
       "      <td>versicolor</td>\n",
       "      <td>versicolor</td>\n",
       "    </tr>\n",
       "    <tr>\n",
       "      <th>11</th>\n",
       "      <td>04/21/2024, 08:08:47</td>\n",
       "      <td>5.762542</td>\n",
       "      <td>2.266797</td>\n",
       "      <td>5.086353</td>\n",
       "      <td>1.155345</td>\n",
       "      <td>versicolor</td>\n",
       "      <td>versicolor</td>\n",
       "    </tr>\n",
       "    <tr>\n",
       "      <th>12</th>\n",
       "      <td>04/21/2024, 08:19:55</td>\n",
       "      <td>5.402680</td>\n",
       "      <td>3.957419</td>\n",
       "      <td>1.394769</td>\n",
       "      <td>1.869420</td>\n",
       "      <td>setosa</td>\n",
       "      <td>setosa</td>\n",
       "    </tr>\n",
       "  </tbody>\n",
       "</table>\n",
       "</div>"
      ],
      "text/plain": [
       "                datetime  sepal_length  sepal_width  petal_length  \\\n",
       "0   04/20/2024, 11:17:45      5.000000     3.400000      1.600000   \n",
       "1   04/20/2024, 11:36:33      6.927532     3.768837      4.670163   \n",
       "2   04/20/2024, 11:38:49      6.927532     3.768837      4.670163   \n",
       "3   04/20/2024, 11:44:43      5.190488     3.051881      4.700561   \n",
       "4   04/20/2024, 21:40:14      5.190488     3.051881      4.700561   \n",
       "5   04/20/2024, 21:46:07      5.762542     2.266797      5.086353   \n",
       "6   04/20/2024, 22:02:54      5.762542     2.266797      5.086353   \n",
       "7   04/20/2024, 22:19:14      5.762542     2.266797      5.086353   \n",
       "8   04/21/2024, 06:23:25      5.762542     2.266797      5.086353   \n",
       "9   04/21/2024, 06:46:03      5.762542     2.266797      5.086353   \n",
       "10  04/21/2024, 06:59:38      5.762542     2.266797      5.086353   \n",
       "11  04/21/2024, 08:08:47      5.762542     2.266797      5.086353   \n",
       "12  04/21/2024, 08:19:55      5.402680     3.957419      1.394769   \n",
       "\n",
       "    petal_width  prediction actual_label  \n",
       "0      0.400000      setosa       setosa  \n",
       "1      1.533406  versicolor    virginica  \n",
       "2      1.533406  versicolor    virginica  \n",
       "3      1.441109  versicolor   versicolor  \n",
       "4      1.441109  versicolor   versicolor  \n",
       "5      1.155345  versicolor   versicolor  \n",
       "6      1.155345  versicolor   versicolor  \n",
       "7      1.155345  versicolor   versicolor  \n",
       "8      1.155345  versicolor   versicolor  \n",
       "9      1.155345  versicolor   versicolor  \n",
       "10     1.155345  versicolor   versicolor  \n",
       "11     1.155345  versicolor   versicolor  \n",
       "12     1.869420      setosa       setosa  "
      ]
     },
     "execution_count": 39,
     "metadata": {},
     "output_type": "execute_result"
    }
   ],
   "source": [
    "history_df = monitor_fg.read()\n",
    "history_df"
   ]
  },
  {
   "cell_type": "markdown",
   "metadata": {},
   "source": [
    "Get the 5 most recent predictions from history_df\n",
    "Save it as a dataframe image\n",
    "This is an easy way to put it in the UI"
   ]
  },
  {
   "cell_type": "code",
   "execution_count": 41,
   "metadata": {},
   "outputs": [],
   "source": [
    "import dataframe_image as dfi\n",
    "\n",
    "df_recent = history_df.tail(5)\n",
    " \n",
    "dfi.export(df_recent, 'pred_assets/df_recent.png', table_conversion = 'matplotlib')"
   ]
  },
  {
   "cell_type": "markdown",
   "metadata": {},
   "source": [
    "Confusion matrix"
   ]
  },
  {
   "cell_type": "code",
   "execution_count": 42,
   "metadata": {},
   "outputs": [
    {
     "name": "stdout",
     "output_type": "stream",
     "text": [
      "[[2 0 0]\n",
      " [0 9 0]\n",
      " [0 2 0]]\n"
     ]
    }
   ],
   "source": [
    "from sklearn.metrics import confusion_matrix\n",
    "\n",
    "predictions = history_df[['prediction']]\n",
    "labels = history_df[['actual_label']]\n",
    "\n",
    "results = confusion_matrix(labels, predictions)\n",
    "print(results)"
   ]
  },
  {
   "cell_type": "code",
   "execution_count": 43,
   "metadata": {},
   "outputs": [
    {
     "data": {
      "image/png": "[encoded data removed]",
      "text/plain": [
       "<Figure size 640x480 with 2 Axes>"
      ]
     },
     "metadata": {},
     "output_type": "display_data"
    }
   ],
   "source": [
    "from matplotlib import pyplot\n",
    "import seaborn as sns\n",
    "\n",
    "# Only create the confusion matrix when our iris_predictions feature group has examples of all 3 iris flowers\n",
    "if results.shape == (3,3):\n",
    "\n",
    "    df_cm = pd.DataFrame(results, ['True Setosa', 'True Verhttps://github.blog/changelog/2023-09-22-github-actions-transitioning-from-node-16-to-node-20/sicolor', 'True Virginica'],\n",
    "                         ['Pred Setosa', 'Pred Versicolor', 'Pred Virginica'])\n",
    "\n",
    "    cm = sns.heatmap(df_cm, annot=True)\n",
    "\n",
    "    fig = cm.get_figure()\n",
    "    fig.savefig(\"pred_assets/confusion_matrix.png\") \n",
    "    df_cm\n",
    "else:\n",
    "    print(\"Run the batch inference pipeline more times until you get 3 different iris flowers\")    "
   ]
  },
  {
   "cell_type": "code",
   "execution_count": null,
   "metadata": {},
   "outputs": [],
   "source": []
  }
 ],
 "metadata": {
  "colab": {
   "collapsed_sections": [],
   "provenance": []
  },
  "kernelspec": {
   "display_name": "Python 3 (ipykernel)",
   "language": "python",
   "name": "python3"
  },
  "language_info": {
   "codemirror_mode": {
    "name": "ipython",
    "version": 3
   },
   "file_extension": ".py",
   "mimetype": "text/x-python",
   "name": "python",
   "nbconvert_exporter": "python",
   "pygments_lexer": "ipython3",
   "version": "3.10.12"
  }
 },
 "nbformat": 4,
 "nbformat_minor": 4
}
